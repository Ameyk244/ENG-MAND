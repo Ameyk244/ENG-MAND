{
  "cells": [
    {
      "cell_type": "markdown",
      "metadata": {
        "id": "view-in-github",
        "colab_type": "text"
      },
      "source": [
        "<a href=\"https://colab.research.google.com/github/Ameyk244/ENG-MAND/blob/main/ENGLISH.ipynb\" target=\"_parent\"><img src=\"https://colab.research.google.com/assets/colab-badge.svg\" alt=\"Open In Colab\"/></a>"
      ]
    },
    {
      "cell_type": "code",
      "execution_count": 3,
      "metadata": {
        "colab": {
          "base_uri": "https://localhost:8080/"
        },
        "id": "8D_YZLJDQduj",
        "outputId": "cc60f65b-5368-4566-fca9-1e3614777db6"
      },
      "outputs": [
        {
          "output_type": "stream",
          "name": "stdout",
          "text": [
            "Requirement already satisfied: pyngrok in /usr/local/lib/python3.11/dist-packages (7.2.3)\n",
            "Requirement already satisfied: PyYAML>=5.1 in /usr/local/lib/python3.11/dist-packages (from pyngrok) (6.0.2)\n"
          ]
        }
      ],
      "source": [
        "! pip install pyngrok"
      ]
    },
    {
      "cell_type": "code",
      "execution_count": 4,
      "metadata": {
        "colab": {
          "base_uri": "https://localhost:8080/"
        },
        "id": "IzughHq8GOOY",
        "outputId": "a290aebc-73b4-4a95-d5af-f15f7d7a7493"
      },
      "outputs": [
        {
          "output_type": "stream",
          "name": "stdout",
          "text": [
            "Requirement already satisfied: flask in /usr/local/lib/python3.11/dist-packages (3.1.0)\n",
            "Requirement already satisfied: flask-ngrok in /usr/local/lib/python3.11/dist-packages (0.0.25)\n",
            "Requirement already satisfied: googletrans==4.0.0-rc1 in /usr/local/lib/python3.11/dist-packages (4.0.0rc1)\n",
            "Requirement already satisfied: gTTS in /usr/local/lib/python3.11/dist-packages (2.5.4)\n",
            "Requirement already satisfied: SpeechRecognition in /usr/local/lib/python3.11/dist-packages (3.14.1)\n",
            "Requirement already satisfied: httpx==0.13.3 in /usr/local/lib/python3.11/dist-packages (from googletrans==4.0.0-rc1) (0.13.3)\n",
            "Requirement already satisfied: certifi in /usr/local/lib/python3.11/dist-packages (from httpx==0.13.3->googletrans==4.0.0-rc1) (2024.12.14)\n",
            "Requirement already satisfied: hstspreload in /usr/local/lib/python3.11/dist-packages (from httpx==0.13.3->googletrans==4.0.0-rc1) (2025.1.1)\n",
            "Requirement already satisfied: sniffio in /usr/local/lib/python3.11/dist-packages (from httpx==0.13.3->googletrans==4.0.0-rc1) (1.3.1)\n",
            "Requirement already satisfied: chardet==3.* in /usr/local/lib/python3.11/dist-packages (from httpx==0.13.3->googletrans==4.0.0-rc1) (3.0.4)\n",
            "Requirement already satisfied: idna==2.* in /usr/local/lib/python3.11/dist-packages (from httpx==0.13.3->googletrans==4.0.0-rc1) (2.10)\n",
            "Requirement already satisfied: rfc3986<2,>=1.3 in /usr/local/lib/python3.11/dist-packages (from httpx==0.13.3->googletrans==4.0.0-rc1) (1.5.0)\n",
            "Requirement already satisfied: httpcore==0.9.* in /usr/local/lib/python3.11/dist-packages (from httpx==0.13.3->googletrans==4.0.0-rc1) (0.9.1)\n",
            "Requirement already satisfied: h11<0.10,>=0.8 in /usr/local/lib/python3.11/dist-packages (from httpcore==0.9.*->httpx==0.13.3->googletrans==4.0.0-rc1) (0.9.0)\n",
            "Requirement already satisfied: h2==3.* in /usr/local/lib/python3.11/dist-packages (from httpcore==0.9.*->httpx==0.13.3->googletrans==4.0.0-rc1) (3.2.0)\n",
            "Requirement already satisfied: hyperframe<6,>=5.2.0 in /usr/local/lib/python3.11/dist-packages (from h2==3.*->httpcore==0.9.*->httpx==0.13.3->googletrans==4.0.0-rc1) (5.2.0)\n",
            "Requirement already satisfied: hpack<4,>=3.0 in /usr/local/lib/python3.11/dist-packages (from h2==3.*->httpcore==0.9.*->httpx==0.13.3->googletrans==4.0.0-rc1) (3.0.0)\n",
            "Requirement already satisfied: Werkzeug>=3.1 in /usr/local/lib/python3.11/dist-packages (from flask) (3.1.3)\n",
            "Requirement already satisfied: Jinja2>=3.1.2 in /usr/local/lib/python3.11/dist-packages (from flask) (3.1.5)\n",
            "Requirement already satisfied: itsdangerous>=2.2 in /usr/local/lib/python3.11/dist-packages (from flask) (2.2.0)\n",
            "Requirement already satisfied: click>=8.1.3 in /usr/local/lib/python3.11/dist-packages (from flask) (8.1.8)\n",
            "Requirement already satisfied: blinker>=1.9 in /usr/local/lib/python3.11/dist-packages (from flask) (1.9.0)\n",
            "Requirement already satisfied: requests in /usr/local/lib/python3.11/dist-packages (from flask-ngrok) (2.32.3)\n",
            "Requirement already satisfied: typing-extensions in /usr/local/lib/python3.11/dist-packages (from SpeechRecognition) (4.12.2)\n",
            "Requirement already satisfied: MarkupSafe>=2.0 in /usr/local/lib/python3.11/dist-packages (from Jinja2>=3.1.2->flask) (3.0.2)\n",
            "Requirement already satisfied: charset-normalizer<4,>=2 in /usr/local/lib/python3.11/dist-packages (from requests->flask-ngrok) (3.4.1)\n",
            "Requirement already satisfied: urllib3<3,>=1.21.1 in /usr/local/lib/python3.11/dist-packages (from requests->flask-ngrok) (2.3.0)\n"
          ]
        }
      ],
      "source": [
        "!pip install flask flask-ngrok googletrans==4.0.0-rc1 gTTS SpeechRecognition\n"
      ]
    },
    {
      "cell_type": "code",
      "execution_count": 5,
      "metadata": {
        "colab": {
          "base_uri": "https://localhost:8080/"
        },
        "id": "lwAiHl3lROJG",
        "outputId": "9df32b51-a0a0-4f8a-912b-e5b82fa9628a"
      },
      "outputs": [
        {
          "output_type": "stream",
          "name": "stdout",
          "text": [
            "Authtoken saved to configuration file: /root/.config/ngrok/ngrok.yml\n"
          ]
        }
      ],
      "source": [
        "!ngrok config add-authtoken 2rXGdt1P6Cs0GQoHG8fuxlA3m95_7prwXkUTAofae2GjqPCMB"
      ]
    },
    {
      "cell_type": "code",
      "execution_count": 6,
      "metadata": {
        "id": "t14-uSqATSN8",
        "colab": {
          "base_uri": "https://localhost:8080/"
        },
        "outputId": "bdd79892-725a-48e8-e551-25315d0d7c7a"
      },
      "outputs": [
        {
          "output_type": "stream",
          "name": "stdout",
          "text": [
            "ngrok: no process found\n"
          ]
        }
      ],
      "source": [
        "!killall ngrok"
      ]
    },
    {
      "cell_type": "code",
      "source": [
        "!curl -X POST https://e2ca-35-185-70-141.ngrok-free.app/translate \\\n",
        "-H \"Content-Type: application/json\" \\\n",
        "-d '{\"text\": \"你好\", \"src_lang\": \"zh\", \"dest_lang\": \"en\"}'\n"
      ],
      "metadata": {
        "colab": {
          "base_uri": "https://localhost:8080/"
        },
        "id": "Newxc6fzzorV",
        "outputId": "62d384cf-8cd2-4314-e2fd-363ca4dcbbfa"
      },
      "execution_count": 7,
      "outputs": [
        {
          "output_type": "stream",
          "name": "stdout",
          "text": [
            "<!DOCTYPE html>\n",
            "<html class=\"h-full\" lang=\"en-US\" dir=\"ltr\">\n",
            "  <head>\n",
            "    <link rel=\"preload\" href=\"https://cdn.ngrok.com/static/fonts/euclid-square/EuclidSquare-Regular-WebS.woff\" as=\"font\" type=\"font/woff\" crossorigin=\"anonymous\" />\n",
            "    <link rel=\"preload\" href=\"https://cdn.ngrok.com/static/fonts/euclid-square/EuclidSquare-RegularItalic-WebS.woff\" as=\"font\" type=\"font/woff\" crossorigin=\"anonymous\" />\n",
            "    <link rel=\"preload\" href=\"https://cdn.ngrok.com/static/fonts/euclid-square/EuclidSquare-Medium-WebS.woff\" as=\"font\" type=\"font/woff\" crossorigin=\"anonymous\" />\n",
            "    <link rel=\"preload\" href=\"https://cdn.ngrok.com/static/fonts/euclid-square/EuclidSquare-Semibold-WebS.woff\" as=\"font\" type=\"font/woff\" crossorigin=\"anonymous\" />\n",
            "    <link rel=\"preload\" href=\"https://cdn.ngrok.com/static/fonts/euclid-square/EuclidSquare-MediumItalic-WebS.woff\" as=\"font\" type=\"font/woff\" crossorigin=\"anonymous\" />\n",
            "    <link rel=\"preload\" href=\"https://cdn.ngrok.com/static/fonts/ibm-plex-mono/IBMPlexMono-Text.woff\" as=\"font\" type=\"font/woff\" crossorigin=\"anonymous\" />\n",
            "    <link rel=\"preload\" href=\"https://cdn.ngrok.com/static/fonts/ibm-plex-mono/IBMPlexMono-TextItalic.woff\" as=\"font\" type=\"font/woff\" crossorigin=\"anonymous\" />\n",
            "    <link rel=\"preload\" href=\"https://cdn.ngrok.com/static/fonts/ibm-plex-mono/IBMPlexMono-SemiBold.woff\" as=\"font\" type=\"font/woff\" crossorigin=\"anonymous\" />\n",
            "    <link rel=\"preload\" href=\"https://cdn.ngrok.com/static/fonts/ibm-plex-mono/IBMPlexMono-SemiBoldItalic.woff\" as=\"font\" type=\"font/woff\" crossorigin=\"anonymous\" />\n",
            "    <meta charset=\"utf-8\">\n",
            "    <meta name=\"author\" content=\"ngrok\">\n",
            "    <meta name=\"description\" content=\"ngrok is the fastest way to put anything on the internet with a single command.\">\n",
            "    <meta name=\"robots\" content=\"noindex, nofollow\">\n",
            "    <meta name=\"viewport\" content=\"width=device-width, initial-scale=1\">\n",
            "    <link id=\"style\" rel=\"stylesheet\" href=\"https://cdn.ngrok.com/static/css/error.css\">\n",
            "    <noscript>Tunnel e2ca-35-185-70-141.ngrok-free.app not found (ERR_NGROK_3200)</noscript>\n",
            "    <script id=\"script\" src=\"https://cdn.ngrok.com/static/js/error.js\" type=\"text/javascript\"></script>\n",
            "  </head>\n",
            "  <body class=\"h-full\" id=\"ngrok\">\n",
            "    <div id=\"root\" data-payload=\"eyJjZG5CYXNlIjoiaHR0cHM6Ly9jZG4ubmdyb2suY29tLyIsImNvZGUiOiIzMjAwIiwibWVzc2FnZSI6IlR1bm5lbCBlMmNhLTM1LTE4NS03MC0xNDEubmdyb2stZnJlZS5hcHAgbm90IGZvdW5kIiwidGl0bGUiOiJOb3QgRm91bmQifQ==\"></div>\n",
            "  </body>\n",
            "</html>\n"
          ]
        }
      ]
    },
    {
      "cell_type": "code",
      "source": [
        "!killall ngrok"
      ],
      "metadata": {
        "colab": {
          "base_uri": "https://localhost:8080/"
        },
        "id": "qU7Ayigz2OTZ",
        "outputId": "7b2134b0-6322-44c1-8a7d-948c69018b64"
      },
      "execution_count": 8,
      "outputs": [
        {
          "output_type": "stream",
          "name": "stdout",
          "text": [
            "ngrok: no process found\n"
          ]
        }
      ]
    },
    {
      "cell_type": "code",
      "source": [
        "!killall ngrok"
      ],
      "metadata": {
        "colab": {
          "base_uri": "https://localhost:8080/"
        },
        "id": "xnehIHsgARVu",
        "outputId": "bfc38248-b72b-4d03-ca67-a411cbff8361"
      },
      "execution_count": null,
      "outputs": [
        {
          "output_type": "stream",
          "name": "stdout",
          "text": [
            "ngrok: no process found\n"
          ]
        }
      ]
    },
    {
      "cell_type": "code",
      "source": [
        "!pip install flask flask-ngrok googletrans==4.0.0-rc1 gTTS SpeechRecognition pyngrok pypinyin\n"
      ],
      "metadata": {
        "colab": {
          "base_uri": "https://localhost:8080/"
        },
        "id": "ecmQ0ZaWE_Qd",
        "outputId": "58d4c7c1-4236-4b87-b37e-26f32a7a2dbc"
      },
      "execution_count": 9,
      "outputs": [
        {
          "output_type": "stream",
          "name": "stdout",
          "text": [
            "Requirement already satisfied: flask in /usr/local/lib/python3.11/dist-packages (3.1.0)\n",
            "Requirement already satisfied: flask-ngrok in /usr/local/lib/python3.11/dist-packages (0.0.25)\n",
            "Requirement already satisfied: googletrans==4.0.0-rc1 in /usr/local/lib/python3.11/dist-packages (4.0.0rc1)\n",
            "Requirement already satisfied: gTTS in /usr/local/lib/python3.11/dist-packages (2.5.4)\n",
            "Requirement already satisfied: SpeechRecognition in /usr/local/lib/python3.11/dist-packages (3.14.1)\n",
            "Requirement already satisfied: pyngrok in /usr/local/lib/python3.11/dist-packages (7.2.3)\n",
            "Collecting pypinyin\n",
            "  Downloading pypinyin-0.53.0-py2.py3-none-any.whl.metadata (12 kB)\n",
            "Requirement already satisfied: httpx==0.13.3 in /usr/local/lib/python3.11/dist-packages (from googletrans==4.0.0-rc1) (0.13.3)\n",
            "Requirement already satisfied: certifi in /usr/local/lib/python3.11/dist-packages (from httpx==0.13.3->googletrans==4.0.0-rc1) (2024.12.14)\n",
            "Requirement already satisfied: hstspreload in /usr/local/lib/python3.11/dist-packages (from httpx==0.13.3->googletrans==4.0.0-rc1) (2025.1.1)\n",
            "Requirement already satisfied: sniffio in /usr/local/lib/python3.11/dist-packages (from httpx==0.13.3->googletrans==4.0.0-rc1) (1.3.1)\n",
            "Requirement already satisfied: chardet==3.* in /usr/local/lib/python3.11/dist-packages (from httpx==0.13.3->googletrans==4.0.0-rc1) (3.0.4)\n",
            "Requirement already satisfied: idna==2.* in /usr/local/lib/python3.11/dist-packages (from httpx==0.13.3->googletrans==4.0.0-rc1) (2.10)\n",
            "Requirement already satisfied: rfc3986<2,>=1.3 in /usr/local/lib/python3.11/dist-packages (from httpx==0.13.3->googletrans==4.0.0-rc1) (1.5.0)\n",
            "Requirement already satisfied: httpcore==0.9.* in /usr/local/lib/python3.11/dist-packages (from httpx==0.13.3->googletrans==4.0.0-rc1) (0.9.1)\n",
            "Requirement already satisfied: h11<0.10,>=0.8 in /usr/local/lib/python3.11/dist-packages (from httpcore==0.9.*->httpx==0.13.3->googletrans==4.0.0-rc1) (0.9.0)\n",
            "Requirement already satisfied: h2==3.* in /usr/local/lib/python3.11/dist-packages (from httpcore==0.9.*->httpx==0.13.3->googletrans==4.0.0-rc1) (3.2.0)\n",
            "Requirement already satisfied: hyperframe<6,>=5.2.0 in /usr/local/lib/python3.11/dist-packages (from h2==3.*->httpcore==0.9.*->httpx==0.13.3->googletrans==4.0.0-rc1) (5.2.0)\n",
            "Requirement already satisfied: hpack<4,>=3.0 in /usr/local/lib/python3.11/dist-packages (from h2==3.*->httpcore==0.9.*->httpx==0.13.3->googletrans==4.0.0-rc1) (3.0.0)\n",
            "Requirement already satisfied: Werkzeug>=3.1 in /usr/local/lib/python3.11/dist-packages (from flask) (3.1.3)\n",
            "Requirement already satisfied: Jinja2>=3.1.2 in /usr/local/lib/python3.11/dist-packages (from flask) (3.1.5)\n",
            "Requirement already satisfied: itsdangerous>=2.2 in /usr/local/lib/python3.11/dist-packages (from flask) (2.2.0)\n",
            "Requirement already satisfied: click>=8.1.3 in /usr/local/lib/python3.11/dist-packages (from flask) (8.1.8)\n",
            "Requirement already satisfied: blinker>=1.9 in /usr/local/lib/python3.11/dist-packages (from flask) (1.9.0)\n",
            "Requirement already satisfied: requests in /usr/local/lib/python3.11/dist-packages (from flask-ngrok) (2.32.3)\n",
            "Requirement already satisfied: typing-extensions in /usr/local/lib/python3.11/dist-packages (from SpeechRecognition) (4.12.2)\n",
            "Requirement already satisfied: PyYAML>=5.1 in /usr/local/lib/python3.11/dist-packages (from pyngrok) (6.0.2)\n",
            "Requirement already satisfied: MarkupSafe>=2.0 in /usr/local/lib/python3.11/dist-packages (from Jinja2>=3.1.2->flask) (3.0.2)\n",
            "Requirement already satisfied: charset-normalizer<4,>=2 in /usr/local/lib/python3.11/dist-packages (from requests->flask-ngrok) (3.4.1)\n",
            "Requirement already satisfied: urllib3<3,>=1.21.1 in /usr/local/lib/python3.11/dist-packages (from requests->flask-ngrok) (2.3.0)\n",
            "Downloading pypinyin-0.53.0-py2.py3-none-any.whl (834 kB)\n",
            "\u001b[2K   \u001b[90m━━━━━━━━━━━━━━━━━━━━━━━━━━━━━━━━━━━━━━━━\u001b[0m \u001b[32m834.7/834.7 kB\u001b[0m \u001b[31m34.1 MB/s\u001b[0m eta \u001b[36m0:00:00\u001b[0m\n",
            "\u001b[?25hInstalling collected packages: pypinyin\n",
            "Successfully installed pypinyin-0.53.0\n"
          ]
        }
      ]
    },
    {
      "cell_type": "code",
      "source": [
        "!killall ngrok"
      ],
      "metadata": {
        "id": "JAjlipvlFuOg",
        "colab": {
          "base_uri": "https://localhost:8080/"
        },
        "outputId": "c7a66ac3-8f15-4c31-b6a2-61ea61d82ea9"
      },
      "execution_count": null,
      "outputs": [
        {
          "output_type": "stream",
          "name": "stdout",
          "text": [
            "ngrok: no process found\n"
          ]
        }
      ]
    },
    {
      "cell_type": "code",
      "source": [
        "!killall ngrok"
      ],
      "metadata": {
        "colab": {
          "base_uri": "https://localhost:8080/"
        },
        "id": "hbPAzLMsPZhq",
        "outputId": "198ecada-e443-4a9e-dead-5fc939aad883"
      },
      "execution_count": 18,
      "outputs": [
        {
          "output_type": "stream",
          "name": "stdout",
          "text": [
            "ngrok: no process found\n"
          ]
        }
      ]
    },
    {
      "cell_type": "code",
      "source": [
        "# Install dependencies\n",
        "!pip install flask flask-ngrok googletrans==4.0.0-rc1 gTTS SpeechRecognition pyngrok\n",
        "\n",
        "# Import necessary libraries\n",
        "from flask import Flask, request, jsonify, send_file, render_template_string\n",
        "from googletrans import Translator, LANGUAGES\n",
        "from gtts import gTTS\n",
        "import os\n",
        "import speech_recognition as sr\n",
        "from io import BytesIO\n",
        "from pyngrok import ngrok  # Ngrok for exposing Flask app\n",
        "\n",
        "# Initialize the Flask app\n",
        "app = Flask(__name__)\n",
        "\n",
        "# Set your Ngrok authentication token (replace with your actual token)\n",
        "ngrok.set_auth_token(\"2sJZK36oczPM5KqiETITXypy9gh_R6RyM1wH2d9jVhbw9B7C\")\n",
        "\n",
        "# Initialize Google Translator\n",
        "translator = Translator()\n",
        "\n",
        "# Supported languages dictionary (for reference in HTML or validation)\n",
        "SUPPORTED_LANGUAGES = LANGUAGES  # Maps 'en' -> 'English', 'zh-CN' -> 'Mandarin'\n",
        "\n"
      ],
      "metadata": {
        "colab": {
          "base_uri": "https://localhost:8080/"
        },
        "id": "BQARS4mSqpK8",
        "outputId": "3a2fda56-bea8-48aa-8499-bd37b333dd5e"
      },
      "execution_count": 33,
      "outputs": [
        {
          "output_type": "stream",
          "name": "stdout",
          "text": [
            "Requirement already satisfied: flask in /usr/local/lib/python3.11/dist-packages (3.1.0)\n",
            "Requirement already satisfied: flask-ngrok in /usr/local/lib/python3.11/dist-packages (0.0.25)\n",
            "Requirement already satisfied: googletrans==4.0.0-rc1 in /usr/local/lib/python3.11/dist-packages (4.0.0rc1)\n",
            "Requirement already satisfied: gTTS in /usr/local/lib/python3.11/dist-packages (2.5.4)\n",
            "Requirement already satisfied: SpeechRecognition in /usr/local/lib/python3.11/dist-packages (3.14.1)\n",
            "Requirement already satisfied: pyngrok in /usr/local/lib/python3.11/dist-packages (7.2.3)\n",
            "Requirement already satisfied: httpx==0.13.3 in /usr/local/lib/python3.11/dist-packages (from googletrans==4.0.0-rc1) (0.13.3)\n",
            "Requirement already satisfied: certifi in /usr/local/lib/python3.11/dist-packages (from httpx==0.13.3->googletrans==4.0.0-rc1) (2024.12.14)\n",
            "Requirement already satisfied: hstspreload in /usr/local/lib/python3.11/dist-packages (from httpx==0.13.3->googletrans==4.0.0-rc1) (2025.1.1)\n",
            "Requirement already satisfied: sniffio in /usr/local/lib/python3.11/dist-packages (from httpx==0.13.3->googletrans==4.0.0-rc1) (1.3.1)\n",
            "Requirement already satisfied: chardet==3.* in /usr/local/lib/python3.11/dist-packages (from httpx==0.13.3->googletrans==4.0.0-rc1) (3.0.4)\n",
            "Requirement already satisfied: idna==2.* in /usr/local/lib/python3.11/dist-packages (from httpx==0.13.3->googletrans==4.0.0-rc1) (2.10)\n",
            "Requirement already satisfied: rfc3986<2,>=1.3 in /usr/local/lib/python3.11/dist-packages (from httpx==0.13.3->googletrans==4.0.0-rc1) (1.5.0)\n",
            "Requirement already satisfied: httpcore==0.9.* in /usr/local/lib/python3.11/dist-packages (from httpx==0.13.3->googletrans==4.0.0-rc1) (0.9.1)\n",
            "Requirement already satisfied: h11<0.10,>=0.8 in /usr/local/lib/python3.11/dist-packages (from httpcore==0.9.*->httpx==0.13.3->googletrans==4.0.0-rc1) (0.9.0)\n",
            "Requirement already satisfied: h2==3.* in /usr/local/lib/python3.11/dist-packages (from httpcore==0.9.*->httpx==0.13.3->googletrans==4.0.0-rc1) (3.2.0)\n",
            "Requirement already satisfied: hyperframe<6,>=5.2.0 in /usr/local/lib/python3.11/dist-packages (from h2==3.*->httpcore==0.9.*->httpx==0.13.3->googletrans==4.0.0-rc1) (5.2.0)\n",
            "Requirement already satisfied: hpack<4,>=3.0 in /usr/local/lib/python3.11/dist-packages (from h2==3.*->httpcore==0.9.*->httpx==0.13.3->googletrans==4.0.0-rc1) (3.0.0)\n",
            "Requirement already satisfied: Werkzeug>=3.1 in /usr/local/lib/python3.11/dist-packages (from flask) (3.1.3)\n",
            "Requirement already satisfied: Jinja2>=3.1.2 in /usr/local/lib/python3.11/dist-packages (from flask) (3.1.5)\n",
            "Requirement already satisfied: itsdangerous>=2.2 in /usr/local/lib/python3.11/dist-packages (from flask) (2.2.0)\n",
            "Requirement already satisfied: click>=8.1.3 in /usr/local/lib/python3.11/dist-packages (from flask) (8.1.8)\n",
            "Requirement already satisfied: blinker>=1.9 in /usr/local/lib/python3.11/dist-packages (from flask) (1.9.0)\n",
            "Requirement already satisfied: requests in /usr/local/lib/python3.11/dist-packages (from flask-ngrok) (2.32.3)\n",
            "Requirement already satisfied: typing-extensions in /usr/local/lib/python3.11/dist-packages (from SpeechRecognition) (4.12.2)\n",
            "Requirement already satisfied: PyYAML>=5.1 in /usr/local/lib/python3.11/dist-packages (from pyngrok) (6.0.2)\n",
            "Requirement already satisfied: MarkupSafe>=2.0 in /usr/local/lib/python3.11/dist-packages (from Jinja2>=3.1.2->flask) (3.0.2)\n",
            "Requirement already satisfied: charset-normalizer<4,>=2 in /usr/local/lib/python3.11/dist-packages (from requests->flask-ngrok) (3.4.1)\n",
            "Requirement already satisfied: urllib3<3,>=1.21.1 in /usr/local/lib/python3.11/dist-packages (from requests->flask-ngrok) (2.3.0)\n"
          ]
        }
      ]
    },
    {
      "cell_type": "markdown",
      "source": [
        "des"
      ],
      "metadata": {
        "id": "bLaK-yflwL6Z"
      }
    },
    {
      "cell_type": "code",
      "source": [
        "html_template = \"\"\"\n",
        "<<!DOCTYPE html>\n",
        "<html>\n",
        "<head>\n",
        "    <title>Translation & Speech Tool</title>\n",
        "    <style>\n",
        "        body {\n",
        "            font-family: Arial, sans-serif;\n",
        "            background: linear-gradient(120deg, #7f00ff, #e100ff, #0000ff);\n",
        "            background-size: 400% 400%;\n",
        "            animation: gradient-flow 8s ease infinite;\n",
        "            color: white;\n",
        "            text-align: center;\n",
        "            padding: 20px;\n",
        "        }\n",
        "\n",
        "        @keyframes gradient-flow {\n",
        "            0% { background-position: 0% 50%; }\n",
        "            50% { background-position: 100% 50%; }\n",
        "            100% { background-position: 0% 50%; }\n",
        "        }\n",
        "\n",
        "        .container {\n",
        "            margin: 30px auto;\n",
        "            width: 60%;\n",
        "            padding: 40px;\n",
        "            background: linear-gradient(120deg, #7f00ff, #e100ff, #0000ff);\n",
        "            border: 5px solid #ffd700;\n",
        "            border-radius: 20px;\n",
        "            box-shadow: 0 8px 16px rgba(0, 0, 0, 0.5);\n",
        "            transition: transform 0.3s ease, box-shadow 0.3s ease;\n",
        "        }\n",
        "\n",
        "        .container:hover {\n",
        "            transform: translateY(-5px);\n",
        "            box-shadow: 0 12px 24px rgba(0, 0, 0, 0.6);\n",
        "        }\n",
        "\n",
        "        h1, h2 {\n",
        "            color: #ffd700;\n",
        "        }\n",
        "\n",
        "        input, select, button {\n",
        "            margin: 12px 0;\n",
        "            padding: 15px;\n",
        "            border: none;\n",
        "            border-radius: 5px;\n",
        "            font-size: 1rem;\n",
        "        }\n",
        "\n",
        "        button {\n",
        "            background: linear-gradient(120deg, #e0115f, #8b0000);  /* Ruby Red to Deep Red Gradient */\n",
        "            color: white;\n",
        "            cursor: pointer;\n",
        "            transition: background 0.3s ease, transform 0.2s ease;\n",
        "        }\n",
        "\n",
        "        button:hover {\n",
        "            background: linear-gradient(120deg, #8b0000, #e0115f);  /* Inverted gradient on hover */\n",
        "            transform: scale(1.05);\n",
        "        }\n",
        "\n",
        "        .result {\n",
        "            margin-top: 20px;\n",
        "            padding: 25px;\n",
        "            background: rgba(255, 255, 255, 0.15);\n",
        "            border: 5px solid #ffd700;\n",
        "            border-radius: 15px;\n",
        "            color: white;\n",
        "            font-weight: bold;\n",
        "            font-size: 1.2rem;\n",
        "            text-shadow: 1px 1px 2px black;\n",
        "        }\n",
        "\n",
        "        input, select {\n",
        "            font-weight: bold;\n",
        "        }\n",
        "\n",
        "        label {\n",
        "            font-size: 1.1rem;\n",
        "            font-weight: bold;\n",
        "            text-shadow: 1px 1px 2px black;\n",
        "        }\n",
        "\n",
        "        audio {\n",
        "            margin-top: 10px;\n",
        "        }\n",
        "    </style>\n",
        "</head>\n",
        "<body>\n",
        "    <h1>Translation & Speech Tool</h1>\n",
        "\n",
        "    <div class=\"container\">\n",
        "        <h2>Text Translation</h2>\n",
        "        <form action=\"/translate\" method=\"post\">\n",
        "            <label>Text:</label><br>\n",
        "            <input type=\"text\" name=\"text\" required><br>\n",
        "            <label>Source Language:</label><br>\n",
        "            <input type=\"text\" name=\"src_lang\" value=\"auto\" disabled><br>\n",
        "            <label>Target Language (English or Mandarin):</label><br>\n",
        "            <select name=\"dest_lang\">\n",
        "                <option value=\"en\">English</option>\n",
        "                <option value=\"zh-CN\">Mandarin</option>\n",
        "            </select><br><br>\n",
        "            <button type=\"submit\">Translate</button>\n",
        "        </form>\n",
        "        {% if translation_result %}\n",
        "        <div class=\"result\">\n",
        "            <h3>Translated Text:</h3>\n",
        "            <p>{{ translation_result }}</p>\n",
        "        </div>\n",
        "        {% endif %}\n",
        "    </div>\n",
        "\n",
        "    <div class=\"container\">\n",
        "        <h2>Text-to-Speech</h2>\n",
        "        <form action=\"/speak\" method=\"post\">\n",
        "            <label>Text:</label><br>\n",
        "            <input type=\"text\" name=\"text\" required><br>\n",
        "            <label>Language:</label><br>\n",
        "            <select name=\"lang\" required>\n",
        "                <option value=\"en\">English</option>\n",
        "                <option value=\"zh\">Mandarin</option>\n",
        "            </select><br><br>\n",
        "            <button type=\"submit\">Generate Speech</button>\n",
        "        </form>\n",
        "        {% if audio_url %}\n",
        "        <div class=\"result\">\n",
        "            <h3>Generated Speech:</h3>\n",
        "            <audio controls>\n",
        "                <source src=\"{{ audio_url }}\" type=\"audio/mpeg\">\n",
        "                Your browser does not support the audio element.\n",
        "            </audio>\n",
        "        </div>\n",
        "        {% endif %}\n",
        "    </div>\n",
        "\n",
        "    <div class=\"container\">\n",
        "        <h2>Speech-to-Speech (Voice Input)</h2>\n",
        "        <form action=\"/speech_to_speech\" method=\"post\" enctype=\"multipart/form-data\">\n",
        "            <label>Upload your speech audio file (e.g., WAV):</label><br>\n",
        "            <input type=\"file\" name=\"audio_file\" required><br><br>\n",
        "            <button type=\"submit\">Submit for Speech-to-Speech</button>\n",
        "        </form>\n",
        "        {% if recognized_text and speech_audio_url %}\n",
        "        <div class=\"result\">\n",
        "            <h3>Recognized Speech:</h3>\n",
        "            <p>{{ recognized_text }}</p>\n",
        "            <h3>Generated Speech:</h3>\n",
        "            <audio controls>\n",
        "                <source src=\"{{ speech_audio_url }}\" type=\"audio/mpeg\">\n",
        "                Your browser does not support the audio element.\n",
        "            </audio>\n",
        "        </div>\n",
        "        {% endif %}\n",
        "    </div>\n",
        "</body>\n",
        "</html>\n",
        "\"\"\""
      ],
      "metadata": {
        "id": "Hmx78g15xfbl"
      },
      "execution_count": 34,
      "outputs": []
    },
    {
      "cell_type": "code",
      "source": [
        "!killall ngrok"
      ],
      "metadata": {
        "colab": {
          "base_uri": "https://localhost:8080/"
        },
        "id": "wLPQzx3QUvlY",
        "outputId": "d2727c9d-daf0-4446-f662-b0233263dedf"
      },
      "execution_count": 32,
      "outputs": [
        {
          "output_type": "stream",
          "name": "stderr",
          "text": [
            "WARNING:pyngrok.process.ngrok:t=2025-01-29T18:35:49+0000 lvl=warn msg=\"Stopping forwarder\" name=http-5000-4f62291d-0371-4d9f-a7ff-0718de681d30 acceptErr=\"failed to accept connection: Listener closed\"\n",
            "WARNING:pyngrok.process.ngrok:t=2025-01-29T18:35:49+0000 lvl=warn msg=\"Error restarting forwarder\" name=http-5000-4f62291d-0371-4d9f-a7ff-0718de681d30 err=\"failed to start tunnel: session closed\"\n"
          ]
        }
      ]
    },
    {
      "cell_type": "code",
      "source": [
        "# Route: Home with HTML interface\n",
        "@app.route('/')\n",
        "def home():\n",
        "    return render_template_string(html_template)\n",
        "\n",
        "# Route 1: Text Translation API (Mandarin and English only)\n",
        "@app.route('/translate', methods=['POST'])\n",
        "def translate_text():\n",
        "    text = request.form.get(\"text\", \"\").strip()\n",
        "    src_lang = request.form.get(\"src_lang\", \"auto\").strip()  # Auto-detect language\n",
        "    dest_lang = request.form.get(\"dest_lang\", \"en\").strip()  # Default to English\n",
        "\n",
        "    if dest_lang not in ['en', 'zh-CN']:\n",
        "        return \"Error: Supported languages are English (en) and Mandarin (zh-CN).\", 400\n",
        "\n",
        "    try:\n",
        "        translated = translator.translate(text, src=src_lang, dest=dest_lang).text\n",
        "        return render_template_string(html_template, translation_result=translated)\n",
        "    except Exception as e:\n",
        "        return f\"<h3>Error: {str(e)}</h3>\", 500\n",
        "\n",
        "# Route 2: Speech-to-Text API\n",
        "@app.route('/transcribe', methods=['POST'])\n",
        "def transcribe_audio():\n",
        "    if 'audio_file' not in request.files:\n",
        "        return jsonify({\"error\": \"Audio file is required\"}), 400\n",
        "\n",
        "    audio_file = request.files['audio_file']\n",
        "    temp_audio_path = \"/tmp/temp_audio.wav\"  # Temporary storage path for audio\n",
        "    audio_file.save(temp_audio_path)\n",
        "\n",
        "    try:\n",
        "        recognizer = sr.Recognizer()\n",
        "        with sr.AudioFile(temp_audio_path) as source:\n",
        "            audio = recognizer.record(source)\n",
        "        text = recognizer.recognize_google(audio)  # Auto-detect the language\n",
        "        os.remove(temp_audio_path)  # Cleanup temporary file\n",
        "        return jsonify({\"transcribed_text\": text})\n",
        "    except Exception as e:\n",
        "        return jsonify({\"error\": str(e)}), 500\n",
        "\n",
        "# Route 3: Text-to-Speech API (Mandarin and English)\n",
        "@app.route('/speak', methods=['POST'])\n",
        "def text_to_speech():\n",
        "    text = request.form.get(\"text\", \"\").strip()\n",
        "    lang = request.form.get(\"lang\", \"en\").strip()  # Default to English\n",
        "\n",
        "    if lang not in ['en', 'zh']:\n",
        "        return f\"Error: Supported languages are English (en) and Mandarin (zh).\", 400\n",
        "\n",
        "    # If the input language is English, translate it to Mandarin before generating speech\n",
        "    if lang == 'en':\n",
        "        try:\n",
        "            text = translator.translate(text, src='en', dest='zh-CN').text\n",
        "        except Exception as e:\n",
        "            return f\"<h3>Error while translating: {str(e)}</h3>\", 500\n",
        "\n",
        "    # Now text is guaranteed to be in Mandarin if lang was 'en'\n",
        "    try:\n",
        "        tts = gTTS(text=text, lang='zh')\n",
        "        audio_fp = BytesIO()  # Store audio in memory\n",
        "        tts.write_to_fp(audio_fp)\n",
        "        audio_fp.seek(0)\n",
        "\n",
        "        # Ensure the static folder exists\n",
        "        static_folder = 'static'\n",
        "        if not os.path.exists(static_folder):\n",
        "            os.makedirs(static_folder)\n",
        "\n",
        "        # Save the audio in the static folder for easy access\n",
        "        audio_file_path = os.path.join(static_folder, \"output.mp3\")\n",
        "        with open(audio_file_path, \"wb\") as f:\n",
        "            f.write(audio_fp.read())  # Save audio to a file in static directory\n",
        "\n",
        "        # Return the result in the same window\n",
        "        audio_url = f\"/static/output.mp3\"  # URL to access the audio file\n",
        "        return render_template_string(html_template, audio_url=audio_url)\n",
        "    except Exception as e:\n",
        "        return f\"<h3>Error: {str(e)}</h3>\", 500\n",
        "\n",
        "# Route 4: Speech-to-Speech API\n",
        "@app.route('/speech_to_speech', methods=['POST'])\n",
        "def speech_to_speech():\n",
        "    if 'audio_file' not in request.files:\n",
        "        return jsonify({\"error\": \"Audio file is required\"}), 400\n",
        "\n",
        "    audio_file = request.files['audio_file']\n",
        "    temp_audio_path = \"/tmp/temp_audio.wav\"  # Temporary storage path for audio\n",
        "    audio_file.save(temp_audio_path)\n",
        "\n",
        "    try:\n",
        "        recognizer = sr.Recognizer()\n",
        "        with sr.AudioFile(temp_audio_path) as source:\n",
        "            audio = recognizer.record(source)\n",
        "        text = recognizer.recognize_google(audio)  # Auto-detect the language\n",
        "        os.remove(temp_audio_path)  # Cleanup temporary file\n",
        "\n",
        "        # After recognition, convert to speech\n",
        "        lang = 'en'  # Defaulting to English, can be made dynamic\n",
        "        tts = gTTS(text=text, lang=lang)\n",
        "        audio_fp = BytesIO()  # Store audio in memory\n",
        "        tts.write_to_fp(audio_fp)\n",
        "        audio_fp.seek(0)\n",
        "\n",
        "        # Ensure the static folder exists\n",
        "        static_folder = 'static'\n",
        "        if not os.path.exists(static_folder):\n",
        "            os.makedirs(static_folder)\n",
        "\n",
        "        # Save the audio in the static folder for easy access\n",
        "        audio_file_path = os.path.join(static_folder, \"speech_output.mp3\")\n",
        "        with open(audio_file_path, \"wb\") as f:\n",
        "            f.write(audio_fp.read())  # Save audio to a file in static directory\n",
        "\n",
        "        # Return the result in the same window\n",
        "        audio_url = f\"/static/speech_output.mp3\"  # URL to access the audio file\n",
        "        return render_template_string(html_template, recognized_text=text, speech_audio_url=audio_url)\n",
        "    except Exception as e:\n",
        "        return jsonify({\"error\": str(e)}), 500\n",
        "\n",
        "# Set the custom port for Flask\n",
        "custom_port = 5030\n",
        "\n",
        "# Expose Flask app via Ngrok to the custom port\n",
        "ngrok_tunnel = ngrok.connect(custom_port)\n",
        "print(f\"Ngrok tunnel \\\"{ngrok_tunnel.public_url}\\\" is live.\")\n",
        "\n",
        "# Run Flask app on the specified port\n",
        "if __name__ == \"__main__\":\n",
        "    app.run(port=custom_port)\n"
      ],
      "metadata": {
        "colab": {
          "base_uri": "https://localhost:8080/"
        },
        "id": "eOFEcmpnqdW5",
        "outputId": "bc7abfc0-9908-4dbe-dcb0-336a126fb7bd"
      },
      "execution_count": 35,
      "outputs": [
        {
          "output_type": "stream",
          "name": "stdout",
          "text": [
            "Ngrok tunnel \"https://e45b-34-86-252-107.ngrok-free.app\" is live.\n",
            " * Serving Flask app '__main__'\n",
            " * Debug mode: off\n"
          ]
        },
        {
          "output_type": "stream",
          "name": "stderr",
          "text": [
            "INFO:werkzeug:\u001b[31m\u001b[1mWARNING: This is a development server. Do not use it in a production deployment. Use a production WSGI server instead.\u001b[0m\n",
            " * Running on http://127.0.0.1:5030\n",
            "INFO:werkzeug:\u001b[33mPress CTRL+C to quit\u001b[0m\n"
          ]
        }
      ]
    },
    {
      "cell_type": "code",
      "source": [
        "from pyngrok import ngrok\n",
        "\n",
        "# Open a tunnel to the port where your server is running (usually 5000 or 7860 for FastAPI/Gradio/Flask)\n",
        "public_url = ngrok.connect(5003)  # Change 5000 to the port your server is using\n",
        "print('Public URL:', public_url)\n"
      ],
      "metadata": {
        "id": "tTj-XMypTJN4",
        "colab": {
          "base_uri": "https://localhost:8080/"
        },
        "outputId": "20023f25-4074-4bcd-f2cb-ab1862568be8"
      },
      "execution_count": 37,
      "outputs": [
        {
          "output_type": "stream",
          "name": "stdout",
          "text": [
            "Public URL: NgrokTunnel: \"https://5327-34-86-252-107.ngrok-free.app\" -> \"http://localhost:5003\"\n"
          ]
        }
      ]
    }
  ],
  "metadata": {
    "colab": {
      "provenance": [],
      "include_colab_link": true
    },
    "kernelspec": {
      "display_name": "Python 3",
      "name": "python3"
    },
    "language_info": {
      "name": "python"
    }
  },
  "nbformat": 4,
  "nbformat_minor": 0
}